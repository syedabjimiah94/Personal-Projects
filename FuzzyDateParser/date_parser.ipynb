{
 "cells": [
  {
   "cell_type": "code",
   "execution_count": 1,
   "metadata": {},
   "outputs": [
    {
     "name": "stdout",
     "output_type": "stream",
     "text": [
      "Defaulting to user installation because normal site-packages is not writeable\n",
      "Collecting dateparser\n",
      "  Obtaining dependency information for dateparser from https://files.pythonhosted.org/packages/a4/29/db12aa4dda81580be1999824a689bd52aa40061fc12c9ccdc3feab5ea718/dateparser-1.2.0-py2.py3-none-any.whl.metadata\n",
      "  Downloading dateparser-1.2.0-py2.py3-none-any.whl.metadata (28 kB)\n",
      "Requirement already satisfied: python-dateutil in c:\\users\\user\\appdata\\roaming\\python\\python311\\site-packages (from dateparser) (2.9.0.post0)\n",
      "Requirement already satisfied: pytz in c:\\users\\user\\appdata\\roaming\\python\\python311\\site-packages (from dateparser) (2024.1)\n",
      "Requirement already satisfied: regex!=2019.02.19,!=2021.8.27 in c:\\users\\user\\appdata\\roaming\\python\\python311\\site-packages (from dateparser) (2024.7.24)\n",
      "Collecting tzlocal (from dateparser)\n",
      "  Obtaining dependency information for tzlocal from https://files.pythonhosted.org/packages/97/3f/c4c51c55ff8487f2e6d0e618dba917e3c3ee2caae6cf0fbb59c9b1876f2e/tzlocal-5.2-py3-none-any.whl.metadata\n",
      "  Downloading tzlocal-5.2-py3-none-any.whl.metadata (7.8 kB)\n",
      "Requirement already satisfied: six>=1.5 in c:\\users\\user\\appdata\\roaming\\python\\python311\\site-packages (from python-dateutil->dateparser) (1.16.0)\n",
      "Requirement already satisfied: tzdata in c:\\users\\user\\appdata\\roaming\\python\\python311\\site-packages (from tzlocal->dateparser) (2024.1)\n",
      "Downloading dateparser-1.2.0-py2.py3-none-any.whl (294 kB)\n",
      "   ---------------------------------------- 0.0/295.0 kB ? eta -:--:--\n",
      "   ----- --------------------------------- 41.0/295.0 kB 991.0 kB/s eta 0:00:01\n",
      "   -------------------------------------- - 286.7/295.0 kB 3.5 MB/s eta 0:00:01\n",
      "   ---------------------------------------- 295.0/295.0 kB 3.7 MB/s eta 0:00:00\n",
      "Downloading tzlocal-5.2-py3-none-any.whl (17 kB)\n",
      "Installing collected packages: tzlocal, dateparser\n",
      "Successfully installed dateparser-1.2.0 tzlocal-5.2\n"
     ]
    },
    {
     "name": "stderr",
     "output_type": "stream",
     "text": [
      "\n",
      "[notice] A new release of pip is available: 23.2.1 -> 24.2\n",
      "[notice] To update, run: python.exe -m pip install --upgrade pip\n"
     ]
    }
   ],
   "source": [
    "!pip install dateparser"
   ]
  },
  {
   "cell_type": "code",
   "execution_count": 2,
   "metadata": {},
   "outputs": [
    {
     "name": "stdout",
     "output_type": "stream",
     "text": [
      "Parsed Date: 2023-12-25 00:00:00\n"
     ]
    }
   ],
   "source": [
    "import dateparser\n",
    "\n",
    "# Example usage of parse\n",
    "date_string = \"25th of December, 2023\"\n",
    "parsed_date = dateparser.parse(date_string)\n",
    "\n",
    "print(f\"Parsed Date: {parsed_date}\")\n"
   ]
  },
  {
   "cell_type": "code",
   "execution_count": 3,
   "metadata": {},
   "outputs": [
    {
     "name": "stdout",
     "output_type": "stream",
     "text": [
      "Found Dates:\n",
      "Date String: on 5th July 2023 and the, Parsed Date: 2023-07-05 00:00:00\n",
      "Date String: 15th September 2024, Parsed Date: 2024-09-15 00:00:00\n"
     ]
    }
   ],
   "source": [
    "from dateparser.search import search_dates\n",
    "\n",
    "# Example usage of search_dates\n",
    "text = \"The project started on 5th July 2023 and the deadline is 15th September 2024.\"\n",
    "found_dates = search_dates(text)\n",
    "\n",
    "print(\"Found Dates:\")\n",
    "for date_string, date_obj in found_dates:\n",
    "    print(f\"Date String: {date_string}, Parsed Date: {date_obj}\")\n"
   ]
  },
  {
   "cell_type": "code",
   "execution_count": 4,
   "metadata": {},
   "outputs": [
    {
     "name": "stdout",
     "output_type": "stream",
     "text": [
      "Formatted Date: December 25, 2023\n"
     ]
    }
   ],
   "source": [
    "import dateparser\n",
    "\n",
    "def format_date(date_string, format_option):\n",
    "    # Parse the date string\n",
    "    parsed_date = dateparser.parse(date_string)\n",
    "\n",
    "    if not parsed_date:\n",
    "        return \"Date could not be parsed.\"\n",
    "\n",
    "    # Define different formats based on the option\n",
    "    formats = {\n",
    "        1: \"%B %d, %Y\",        # e.g., \"December 25, 2023\"\n",
    "        2: \"%Y-%m-%d\",         # e.g., \"2023-12-25\"\n",
    "        3: \"%d/%m/%Y\",         # e.g., \"25/12/2023\"\n",
    "        4: \"%m/%d/%Y\",         # e.g., \"12/25/2023\"\n",
    "        5: \"%A, %d %B %Y\",     # e.g., \"Monday, 25 December 2023\"\n",
    "        6: \"%Y %B %d\",         # e.g., \"2023 December 25\"\n",
    "    }\n",
    "\n",
    "    # Get the format string based on the selected option\n",
    "    format_string = formats.get(format_option, \"%B %d, %Y\")\n",
    "\n",
    "    # Format the parsed date\n",
    "    formatted_date = parsed_date.strftime(format_string)\n",
    "    return formatted_date\n",
    "\n",
    "# Example usage\n",
    "date_string = \"25th of December, 2023\"\n",
    "format_option = 1  # Change this value to test different formats\n",
    "\n",
    "formatted_date = format_date(date_string, format_option)\n",
    "print(f\"Formatted Date: {formatted_date}\")\n"
   ]
  }
 ],
 "metadata": {
  "kernelspec": {
   "display_name": "Python 3",
   "language": "python",
   "name": "python3"
  },
  "language_info": {
   "codemirror_mode": {
    "name": "ipython",
    "version": 3
   },
   "file_extension": ".py",
   "mimetype": "text/x-python",
   "name": "python",
   "nbconvert_exporter": "python",
   "pygments_lexer": "ipython3",
   "version": "3.11.7"
  }
 },
 "nbformat": 4,
 "nbformat_minor": 2
}
