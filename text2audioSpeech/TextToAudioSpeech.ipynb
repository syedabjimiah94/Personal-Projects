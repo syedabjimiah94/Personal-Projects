{
 "cells": [
  {
   "cell_type": "code",
   "execution_count": 7,
   "metadata": {},
   "outputs": [
    {
     "name": "stdout",
     "output_type": "stream",
     "text": [
      "Defaulting to user installation because normal site-packages is not writeable\n",
      "Requirement already satisfied: pyttsx3 in c:\\users\\user\\appdata\\roaming\\python\\python311\\site-packages (2.91)\n",
      "Collecting pydub\n",
      "  Obtaining dependency information for pydub from https://files.pythonhosted.org/packages/a6/53/d78dc063216e62fc55f6b2eebb447f6a4b0a59f55c8406376f76bf959b08/pydub-0.25.1-py2.py3-none-any.whl.metadata\n",
      "  Downloading pydub-0.25.1-py2.py3-none-any.whl.metadata (1.4 kB)\n",
      "Requirement already satisfied: comtypes in c:\\users\\user\\appdata\\roaming\\python\\python311\\site-packages (from pyttsx3) (1.4.6)\n",
      "Requirement already satisfied: pypiwin32 in c:\\users\\user\\appdata\\roaming\\python\\python311\\site-packages (from pyttsx3) (223)\n",
      "Requirement already satisfied: pywin32 in c:\\users\\user\\appdata\\roaming\\python\\python311\\site-packages (from pyttsx3) (306)\n",
      "Downloading pydub-0.25.1-py2.py3-none-any.whl (32 kB)\n",
      "Installing collected packages: pydub\n",
      "Successfully installed pydub-0.25.1\n"
     ]
    },
    {
     "name": "stderr",
     "output_type": "stream",
     "text": [
      "\n",
      "[notice] A new release of pip is available: 23.2.1 -> 24.2\n",
      "[notice] To update, run: python.exe -m pip install --upgrade pip\n"
     ]
    }
   ],
   "source": [
    "!pip install pyttsx3 pydub\n"
   ]
  },
  {
   "cell_type": "code",
   "execution_count": 8,
   "metadata": {},
   "outputs": [],
   "source": [
    "import pyttsx3\n",
    "from pydub import AudioSegment\n"
   ]
  },
  {
   "cell_type": "code",
   "execution_count": 12,
   "metadata": {},
   "outputs": [],
   "source": [
    "def text2speech(text, rate=200, volume=1.0, voice=None, filename='output.mp3'):\n",
    "    # Initialize the text-to-speech engine\n",
    "    engine = pyttsx3.init()\n",
    "\n",
    "    # Set properties: rate, volume, and voice\n",
    "    engine.setProperty('rate', rate)\n",
    "    engine.setProperty('volume', volume)\n",
    "\n",
    "    # Set the voice (optional)\n",
    "    if voice:\n",
    "        voices = engine.getProperty('voices')\n",
    "        engine.setProperty('voice', voices[voice].id)\n",
    "\n",
    "    # Save the speech to a WAV file\n",
    "    wav_file = 'output.wav'\n",
    "    engine.save_to_file(text, wav_file)\n",
    "    engine.runAndWait()\n",
    "\n",
    "    # Convert WAV to MP3\n",
    "    # sound = AudioSegment.from_wav(wav_file)\n",
    "    # sound.export(filename, format='mp3')\n",
    "\n",
    "    print(f\"MP3 file saved as {filename}\")"
   ]
  },
  {
   "cell_type": "code",
   "execution_count": 13,
   "metadata": {},
   "outputs": [
    {
     "name": "stdout",
     "output_type": "stream",
     "text": [
      "MP3 file saved as output.mp3\n"
     ]
    }
   ],
   "source": [
    "\n",
    "text = \"Run the provided code, and the pyttsx3 engine will convert the text to speech and play it directly through your system's audio output.\"\n",
    "text2speech(text)"
   ]
  }
 ],
 "metadata": {
  "kernelspec": {
   "display_name": "Python 3",
   "language": "python",
   "name": "python3"
  },
  "language_info": {
   "codemirror_mode": {
    "name": "ipython",
    "version": 3
   },
   "file_extension": ".py",
   "mimetype": "text/x-python",
   "name": "python",
   "nbconvert_exporter": "python",
   "pygments_lexer": "ipython3",
   "version": "3.11.7"
  }
 },
 "nbformat": 4,
 "nbformat_minor": 2
}
