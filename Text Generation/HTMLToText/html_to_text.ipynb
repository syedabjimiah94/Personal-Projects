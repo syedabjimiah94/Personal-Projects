{
 "cells": [
  {
   "cell_type": "code",
   "execution_count": 1,
   "metadata": {},
   "outputs": [
    {
     "name": "stdout",
     "output_type": "stream",
     "text": [
      "\n",
      "\n",
      "\n",
      "Test Page\n",
      "\n",
      "\n",
      "This is a Heading\n",
      "This is a paragraph.\n",
      "This is a link\n",
      "\n",
      "\n",
      "\n"
     ]
    }
   ],
   "source": [
    "from bs4 import BeautifulSoup\n",
    "\n",
    "def html_to_text(html_content):\n",
    "    # Create a BeautifulSoup object and specify the parser\n",
    "    soup = BeautifulSoup(html_content, 'html.parser')\n",
    "    \n",
    "    # Extract and return the text\n",
    "    return soup.get_text()\n",
    "\n",
    "# Example HTML content\n",
    "html_content = '''\n",
    "<html>\n",
    "<head>\n",
    "<title>Test Page</title>\n",
    "</head>\n",
    "<body>\n",
    "<h1>This is a Heading</h1>\n",
    "<p>This is a paragraph.</p>\n",
    "<a href=\"https://example.com\">This is a link</a>\n",
    "</body>\n",
    "</html>\n",
    "'''\n",
    "\n",
    "# Convert HTML to text\n",
    "plain_text = html_to_text(html_content)\n",
    "print(plain_text)\n"
   ]
  }
 ],
 "metadata": {
  "kernelspec": {
   "display_name": "Python 3",
   "language": "python",
   "name": "python3"
  },
  "language_info": {
   "codemirror_mode": {
    "name": "ipython",
    "version": 3
   },
   "file_extension": ".py",
   "mimetype": "text/x-python",
   "name": "python",
   "nbconvert_exporter": "python",
   "pygments_lexer": "ipython3",
   "version": "3.11.7"
  }
 },
 "nbformat": 4,
 "nbformat_minor": 2
}
