{
 "cells": [
  {
   "cell_type": "code",
   "execution_count": 1,
   "metadata": {},
   "outputs": [
    {
     "name": "stdout",
     "output_type": "stream",
     "text": [
      "Defaulting to user installation because normal site-packages is not writeable\n",
      "Collecting beautifulsoup4\n",
      "  Obtaining dependency information for beautifulsoup4 from https://files.pythonhosted.org/packages/b1/fe/e8c672695b37eecc5cbf43e1d0638d88d66ba3a44c4d321c796f4e59167f/beautifulsoup4-4.12.3-py3-none-any.whl.metadata\n",
      "  Downloading beautifulsoup4-4.12.3-py3-none-any.whl.metadata (3.8 kB)\n",
      "Collecting soupsieve>1.2 (from beautifulsoup4)\n",
      "  Obtaining dependency information for soupsieve>1.2 from https://files.pythonhosted.org/packages/d1/c2/fe97d779f3ef3b15f05c94a2f1e3d21732574ed441687474db9d342a7315/soupsieve-2.6-py3-none-any.whl.metadata\n",
      "  Downloading soupsieve-2.6-py3-none-any.whl.metadata (4.6 kB)\n",
      "Downloading beautifulsoup4-4.12.3-py3-none-any.whl (147 kB)\n",
      "   ---------------------------------------- 0.0/147.9 kB ? eta -:--:--\n",
      "   -------------------------------------- - 143.4/147.9 kB 4.3 MB/s eta 0:00:01\n",
      "   ---------------------------------------- 147.9/147.9 kB 2.9 MB/s eta 0:00:00\n",
      "Downloading soupsieve-2.6-py3-none-any.whl (36 kB)\n",
      "Installing collected packages: soupsieve, beautifulsoup4\n",
      "Successfully installed beautifulsoup4-4.12.3 soupsieve-2.6\n"
     ]
    },
    {
     "name": "stderr",
     "output_type": "stream",
     "text": [
      "\n",
      "[notice] A new release of pip is available: 23.2.1 -> 24.2\n",
      "[notice] To update, run: python.exe -m pip install --upgrade pip\n"
     ]
    },
    {
     "name": "stdout",
     "output_type": "stream",
     "text": [
      "Defaulting to user installation because normal site-packages is not writeable\n",
      "Requirement already satisfied: requests in c:\\users\\user\\appdata\\roaming\\python\\python311\\site-packages (2.32.3)\n",
      "Requirement already satisfied: charset-normalizer<4,>=2 in c:\\users\\user\\appdata\\roaming\\python\\python311\\site-packages (from requests) (3.3.2)\n",
      "Requirement already satisfied: idna<4,>=2.5 in c:\\users\\user\\appdata\\roaming\\python\\python311\\site-packages (from requests) (3.7)\n",
      "Requirement already satisfied: urllib3<3,>=1.21.1 in c:\\users\\user\\appdata\\roaming\\python\\python311\\site-packages (from requests) (2.2.2)\n",
      "Requirement already satisfied: certifi>=2017.4.17 in c:\\users\\user\\appdata\\roaming\\python\\python311\\site-packages (from requests) (2024.7.4)\n"
     ]
    },
    {
     "name": "stderr",
     "output_type": "stream",
     "text": [
      "\n",
      "[notice] A new release of pip is available: 23.2.1 -> 24.2\n",
      "[notice] To update, run: python.exe -m pip install --upgrade pip\n"
     ]
    }
   ],
   "source": [
    "!pip install beautifulsoup4\n",
    "!pip install requests"
   ]
  },
  {
   "cell_type": "code",
   "execution_count": 2,
   "metadata": {},
   "outputs": [],
   "source": [
    "import requests\n",
    "from bs4 import BeautifulSoup"
   ]
  },
  {
   "cell_type": "code",
   "execution_count": 3,
   "metadata": {},
   "outputs": [],
   "source": [
    "def convert_url_to_text(url):\n",
    "    response = requests.get(url)\n",
    "    if response.status_code == 200:\n",
    "        soup = BeautifulSoup(response.content, 'html.parser')\n",
    "        text = soup.get_text()\n",
    "        return text\n",
    "    else:\n",
    "        return 'Failed to retrieve webpage content'"
   ]
  },
  {
   "cell_type": "code",
   "execution_count": 4,
   "metadata": {},
   "outputs": [
    {
     "name": "stdout",
     "output_type": "stream",
     "text": [
      "World | Latest News & Updates | BBC NewsSkip to contentBritish Broadcasting CorporationHomeNewsSportBusinessInnovationCultureArtsTravelEarthVideoLiveHomeNewsIsrael-Gaza WarWar in UkraineUS ElectionKamala HarrisDonald TrumpJD VanceTim WalzUS & CanadaUKUK PoliticsEnglandN. IrelandN. Ireland PoliticsScotlandScotland PoliticsWalesWales PoliticsAfricaAsiaChinaIndiaAustraliaEuropeLatin AmericaMiddle EastIn PicturesBBC InDepthBBC VerifySportBusinessExecutive LoungeTechnology of BusinessWomen at the HelmFuture of BusinessInnovationTechnologyScience & HealthArtificial IntelligenceAI v the MindCultureFilm & TVMusicArt & DesignStyleBooksEntertainment NewsArtsArts in MotionTravelDestinationsAfricaAntarcticaAsiaAustralia and PacificCaribbean & BermudaCentral AmericaEuropeMiddle EastNorth AmericaSouth AmericaWorld’s TableCulture & ExperiencesAdventuresThe SpeciaListEarthNatural WondersWeather & ScienceClimate SolutionsSustainable BusinessGreen LivingVideoLiveLive NewsLive SportHomeNewsSportBusinessInnovationCultureArtsTravelEarthVideoLiveAudioWeatherNewslettersNewsNewsWorldLIVEExploding walkie-talkies kill nine and injure at least 300 in new attacks across LebanonThe blasts come a day after pagers exploded across Lebanon - multiple sources say Israel's spy agency Mossad was targeting Hezbollah fighters.Bowen: Tactical triumph for Israel, but Hezbollah won't be deterredReports said Israel's planned attack was not used in the way they hoped, and was triggered early.7 hrs agoMiddle EastDozens arrested as crime message network dismantledNine countries were involved in the operation which has so far seen over 50 arrests.1 hr agoWorldLIVEHarris addresses Latino voters before Trump and Vance hold ralliesThe vice-president is speaking at the Congressional Hispanic Caucus Institute in Washington DC.Drought leaves Amazon basin rivers at all-time lowThe current drought is concerning because it comes relatively early in the Amazon's dry season.6 hrs agoLatin AmericaBowen: Tactical triumph for Israel, but Hezbollah won't be deterredReports said Israel's planned attack was not used in the way they hoped, and was triggered early.7 hrs agoMiddle EastMusk's satellites 'blocking' view of the universeRadio waves from the satellites are \"blinding\" radio telescopes and hurting research, say scientists.6 hrs agoScience & EnvironmentUkraine drone attack in Russia sparks fireResidents are being encouraged to return home after a partial evacuation was ordered. 4 hrs agoEuropeDozens arrested as crime message network dismantledNine countries were involved in the operation which has so far seen over 50 arrests.1 hr agoWorldItaly's World Cup icon Schillaci dies aged 59Italian World Cup icon Salvatore Schillaci, the top scorer at the 1990 World Cup, dies aged 59.8 hrs agoItalyNew video shows remains of Titan sub on sea floorThe submersible was descending towards the Titanic wreck when it imploded in June 2023.11 hrs agoUS & CanadaUsyk released after airport detention - ZelenskyUkraine president Volodymyr Zelensky says heavyweight champion Oleksandr Usyk has been released after being detained at an airport in Poland.19 hrs agoBoxingUK summons Russian ambassador over diplomat expulsionsThe UK accuses Russia of a \"malicious\" campaign to undermine \n",
      "its security and support for Ukraine.45 mins agoEuropeNotre-Dame restoration reveals Renaissance poet's coffinThe tomb of one of France’s best-loved early poets has been discovered during restoration work in Notre-Dame.3 hrs agoEuropeWatch/ListenHow the Hezbollah exploding device attacks unfoldedMore than 20 people, including at some children, have been killed after pagers and walkie talkies exploded, Lebanon says.6 hrs agoMiddle EastVideo appears to show pager explosion at Lebanon supermarketThousands of people were injured when pagers belonging to Hezbollah exploded almost simultaneously.23 hrs agoMiddle EastNew video shows remains of Titan sub on sea floorThe submersible was descending towards the Titanic wreck when it imploded in June 2023.11 hrs agoUS & CanadaRos Atkins on Trump suspect viral conspiracy theoryThe BBC's analysis editor looks at the false link between Ryan Routh and a US investment firm.17 hrs agoWatch: Timelapse of supermoon rising over CaliforniaA supermoon lights up the sky across the world along with a rare partial lunar eclipse.6 hrs agoUS & CanadaFeaturesWhat we know about the Hezbollah pager explosionsThe attacks left nine dead and thousands injured, but how the blasts occurred remains unclear.2 hrs agoMiddle EastTaiwan pager maker stunned by link to Lebanon attacksThe race to find the manufacturer of pagers that exploded in Lebanon leads to a Taiwanese company.7 hrs agoWorld'Please save me': The Indians duped into fighting for Russia Dozens of Indian men have been discharged from the Russian army and are making their way home. 9 hrs agoWorldClimate change is turbo-charging Somalia’s problems - but there's still hopeDespite facing a catastrophic combination of challenges, there is optimism in the African country.18 hrs agoAfricaStill reeling from crisis, Sri Lanka holds pivotal electionIt’s Sri Lanka's first election since it saw mass protests that triggered its worst economic crisis.19 hrs agoAsiaLatest updates45 mins agoUK summons Russian ambassador over diplomat expulsionsThe UK accuses Russia of a \"malicious\" campaign to undermine \n",
      "its security and support for Ukraine.45 mins agoEurope1 hr agoSecond wave of device explosions in Lebanon kills nine and wounds 300Reports say walkie-talkies used by Hezbollah blew up a day after pager blasts killed 12 people.1 hr agoMiddle East2 hrs agoWhat we know about the Hezbollah pager explosionsThe attacks left nine dead and thousands injured, but how the blasts occurred remains unclear.2 hrs agoMiddle East2 hrs agoUS sues ship firms for $100m over Baltimore bridge crashThe Justice Department said repair costs should be carried by the companies responsible, not US citizens.2 hrs agoUS & Canada3 hrs agoDeath toll from Hezbollah pager explosions in Lebanon rises to 12Lebanon’s health minister said two children and several healthcare workers were among the dead.3 hrs agoMiddle East3 hrs agoNotre-Dame restoration reveals Renaissance poet's coffinThe tomb of one of France’s best-loved early poets has been discovered during restoration work in Notre-Dame.3 hrs agoEurope3 hrs agoWhy is Turkey deepening its ties with Somalia?The two signed a new naval deal this year after more than a decade of strategic partnership.3 hrs agoAfrica3 hrs agoJihadists step up attacks on Burkina Faso civilians - rights groupBrutal atrocities, like slitting civilians' throats, have been reported, Human Rights Watch says.3 hrs agoAfrica3 hrs agoProtests over NY subway fare-evasion shooting lead to arrestsOfficers fired during a clash with a man who pulled a knife after being stopped for fare evasion, police say.3 hrs agoUS & CanadaBritish Broadcasting CorporationHomeNewsSportBusinessInnovationCultureArtsTravelEarthVideoLiveAudioWeatherBBC ShopBBC in other languagesFollow BBC on:Terms of UseAbout the BBCPrivacy PolicyCookiesAccessibility HelpContact the BBCAdvertise with usDo not share or sell my infoContact technical supportCopyright 2024 BBC. All rights reserved.  The BBC is not responsible for the content of external sites. Read about our approach to external linking. \n"
     ]
    }
   ],
   "source": [
    "url = \"https://www.bbc.com/news/world\"\n",
    "text = convert_url_to_text(url)\n",
    "print(text)"
   ]
  }
 ],
 "metadata": {
  "kernelspec": {
   "display_name": "Python 3",
   "language": "python",
   "name": "python3"
  },
  "language_info": {
   "codemirror_mode": {
    "name": "ipython",
    "version": 3
   },
   "file_extension": ".py",
   "mimetype": "text/x-python",
   "name": "python",
   "nbconvert_exporter": "python",
   "pygments_lexer": "ipython3",
   "version": "3.11.7"
  }
 },
 "nbformat": 4,
 "nbformat_minor": 2
}
