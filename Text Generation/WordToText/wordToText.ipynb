{
 "cells": [
  {
   "cell_type": "code",
   "execution_count": 1,
   "metadata": {},
   "outputs": [
    {
     "name": "stdout",
     "output_type": "stream",
     "text": [
      "Defaulting to user installation because normal site-packages is not writeable\n",
      "Requirement already satisfied: docx2txt in c:\\users\\user\\appdata\\roaming\\python\\python311\\site-packages (0.8)\n"
     ]
    },
    {
     "name": "stderr",
     "output_type": "stream",
     "text": [
      "\n",
      "[notice] A new release of pip is available: 23.2.1 -> 24.2\n",
      "[notice] To update, run: python.exe -m pip install --upgrade pip\n"
     ]
    }
   ],
   "source": [
    "!pip install docx2txt"
   ]
  },
  {
   "cell_type": "code",
   "execution_count": 2,
   "metadata": {},
   "outputs": [],
   "source": [
    "import docx2txt"
   ]
  },
  {
   "cell_type": "code",
   "execution_count": 7,
   "metadata": {},
   "outputs": [],
   "source": [
    "def getDOCTxt(path):\n",
    "    try:\n",
    "        text = docx2txt.process(path)\n",
    "        return text \n",
    "    except Exception as e:\n",
    "        print(\"Error processing DOC:\", e)\n",
    "        return \"Error\""
   ]
  },
  {
   "cell_type": "code",
   "execution_count": 8,
   "metadata": {},
   "outputs": [
    {
     "data": {
      "text/plain": [
       "'1.Explain how PoW consensus works:\\n\\n\\t\\t\\tThe central principle behind PoW consensus is to solve complex mathematical problems and make the largest number of guesses as quickly as possible. Such requires a lot of computational power, and by using a more efficient mining machine to run calculations, a miner can maximize profitability in terms of crypto rewards.  In this type of consensus mechanism, miners compete to be the first one to find a hash regarding a particular block, which can only be solved using sheer computing power to make the largest number of guesses.\\n\\n\\n\\n2.Explain the Concept of PoS Proof-of-Stake:\\n\\n\\tProof-of-Stake is a consensus algorithm that deals with the main drawbacks of PoW. In this mechanism, every block gets validated before the network adds another block to the blockchain ledger. Unlike PoW, where miners have to solve complex puzzles, in PoS, miners can join the mining process using their coins to stake. It allows users to mine for rewards using very minimal hardware and software resources. Here, the mining capacity of a particular miner depends on how many coins they already have; thus, the more coins one has, the better chances are, which indicates only the richest can have control of the consensus.\\n\\n3.roles and responsibilities of an Ethereum Developer?\\n\\n\\tEthereum developers work on Blockchain enterprise technology framework design and development solutions. They are responsible for preparing system modules, design documents, and system testing documents as per project requirements. He also works on system architecture and the implementation of the blockchain program function module. He participates in the design of security protocols and architecture.\\n\\n\\n\\n4.Ether \\n\\n       is Ethereum’s native cryptocurrency, which is arguably the second most popular digital token after bitcoin (BTC).\\n\\n5.What is Ethereum?\\n\\nEthereum is an open software platform based on blockchain that runs on a network rather than running on a single computer. It offers Ethereum developers and experts a decentralized trust-less platform to build and deploy decentralized applications that run on the Ethereum blockchain and whose execution is monitored by thousands of peers.\\n\\n\\n\\n6.What are Ethereum wallets?\\n\\nEthereum wallets are a piece of software that allows users to interact with their Ethereum account. These wallets are essential because before you can start trading Ether, you need to store it somewhere, and there comes the role of wallets.\\n\\n7.What is erc21?\\n\\nERC-721 is an open standard that describes how to build Non-Fungible tokens on EVM (Ethereum Virtual Machine) compatible blockchains; it is a standard interface for Non-Fungible tokens; it has a set of rules which make it easy to work with NFTs. NFTs are not only of ERC-721 type; they can also be ERC-1155 tokens\\n\\nEthereum request for comment\\n\\nERC stands for \"Ethereum request for comment,\" and the ERC20 standard was implemented in 2015. Plenty of well-known digital currencies use the ERC-20 standard, including Maker (MKR), Basic Attention Token (BAT), Augur (REP), and OMG Network (OMG).\\n\\n\\n\\n8.Hash:\\n\\nA hash is a function that meets the encrypted demands needed to solve for a blockchain computation. Hashes are of a fixed length since it makes it nearly impossible to guess the length of the hash if someone was trying to crack the blockchain. The same data will always produce the same hashed value. In particular, the Bitcoin hash algorithm is SHA-256 or Secure Hashing Algorithm 256 bits.\\n\\n9.IPFS\\n\\nThe InterPlanetary File System is a protocol and peer-to-peer network for storing and sharing data in a distributed file system. IPFS uses content-addressing to uniquely identify each file in a global namespace connecting all computing devices.\\n\\n\\n\\n10.SHA 256\\n\\nSecure Hashing Algorithm (SHA) -256 is the\\xa0hash function and mining algorithm of the Bitcoin protocol, referring to the cryptographic hash function that outputs a 256 bits long value. It moderates the creation and management of addresses, and is also used for transaction verification.\\n\\n11.Does ETH use SHA-256?\\n\\nEthereum uses Keccak-256 in a consensus engine called Ethash. Keccak is a family of hash functions that eventually got standardized to SHA-3 (SHA256 is part of a family of hash functions called SHA-2). Ethereum called it Keccak instead of SHA-3 as it has slightly different parameters than the current SHA-3.\\n\\n12. What is Merkel Tree?\\n\\nMerkel Tree\\xa0is a data structure that is used for verifying a block. It is in the form of a binary tree containing cryptographic hashes of each block. A Merkle tree is structured similarly to a binary tree where each leaf node is a hash of a block of transactional data and each non-leaf node is a hash of its leaf node. The Merkel root or hash root is the final hash root of all the transaction hashes. It encompasses all the transactions that are underlying all the non-leaf nodes.\\n\\n13.public Blockchain\\xa0ledgers \\n\\nare visible to all the users on the internet and any user can verify and add a block of transactions to the Blockchain. Examples,\\xa0Bitcoin, and\\xa0Ethereum.\\n\\n\\n\\n\\n\\n14.Private Blockchain\\xa0ledgers \\n\\nare visible to users on the internet but only specific users in the organization can verify and add transactions. It’s a permissioned blockchain, although the information is available publicly, the controllers of the information are within the organization and are predetermined. Example,\\xa0Blockstack.\\n\\n15.how is the transaction fee calculated?\\n\\nGas usage depends upon the amount of storage and set of instructions (codes) used in a smart contract. The transaction fee is calculated in Ether, which is given as:\\n\\nEther = Tx Fees = Gas Limit * Gas Price'"
      ]
     },
     "execution_count": 8,
     "metadata": {},
     "output_type": "execute_result"
    }
   ],
   "source": [
    "result = getDOCTxt(\"1.docx\")\n",
    "result"
   ]
  },
  {
   "cell_type": "code",
   "execution_count": 14,
   "metadata": {},
   "outputs": [],
   "source": [
    "import textwrap\n",
    "\n",
    "def getDOCTxt(path, output, width=80):\n",
    "    try:\n",
    "        text = docx2txt.process(path)\n",
    "        wrapped_text = textwrap.fill(text, width=width)\n",
    "        \n",
    "        # Save wrapped text to a .txt file\n",
    "        with open(output, 'w', encoding='utf-8') as f:\n",
    "            f.write(wrapped_text)\n",
    "        \n",
    "        print(f\"Text successfully saved to {output}\")\n",
    "        return wrapped_text\n",
    "    except Exception as e:\n",
    "        print(\"Error processing DOC:\", e)\n",
    "        return \"Error\""
   ]
  },
  {
   "cell_type": "code",
   "execution_count": 15,
   "metadata": {},
   "outputs": [
    {
     "name": "stdout",
     "output_type": "stream",
     "text": [
      "Text successfully saved to output.txt\n"
     ]
    },
    {
     "data": {
      "text/plain": [
       "'1.Explain how PoW consensus works:                          The central\\nprinciple behind PoW consensus is to solve complex mathematical problems and\\nmake the largest number of guesses as quickly as possible. Such requires a lot\\nof computational power, and by using a more efficient mining machine to run\\ncalculations, a miner can maximize profitability in terms of crypto rewards.  In\\nthis type of consensus mechanism, miners compete to be the first one to find a\\nhash regarding a particular block, which can only be solved using sheer\\ncomputing power to make the largest number of guesses.    2.Explain the Concept\\nof PoS Proof-of-Stake:          Proof-of-Stake is a consensus algorithm that\\ndeals with the main drawbacks of PoW. In this mechanism, every block gets\\nvalidated before the network adds another block to the blockchain ledger. Unlike\\nPoW, where miners have to solve complex puzzles, in PoS, miners can join the\\nmining process using their coins to stake. It allows users to mine for rewards\\nusing very minimal hardware and software resources. Here, the mining capacity of\\na particular miner depends on how many coins they already have; thus, the more\\ncoins one has, the better chances are, which indicates only the richest can have\\ncontrol of the consensus.  3.roles and responsibilities of an Ethereum\\nDeveloper?          Ethereum developers work on Blockchain enterprise technology\\nframework design and development solutions. They are responsible for preparing\\nsystem modules, design documents, and system testing documents as per project\\nrequirements. He also works on system architecture and the implementation of the\\nblockchain program function module. He participates in the design of security\\nprotocols and architecture.    4.Ether          is Ethereum’s native\\ncryptocurrency, which is arguably the second most popular digital token after\\nbitcoin (BTC).  5.What is Ethereum?  Ethereum is an open software platform based\\non blockchain that runs on a network rather than running on a single computer.\\nIt offers Ethereum developers and experts a decentralized trust-less platform to\\nbuild and deploy decentralized applications that run on the Ethereum blockchain\\nand whose execution is monitored by thousands of peers.    6.What are Ethereum\\nwallets?  Ethereum wallets are a piece of software that allows users to interact\\nwith their Ethereum account. These wallets are essential because before you can\\nstart trading Ether, you need to store it somewhere, and there comes the role of\\nwallets.  7.What is erc21?  ERC-721 is an open standard that describes how to\\nbuild Non-Fungible tokens on EVM (Ethereum Virtual Machine) compatible\\nblockchains; it is a standard interface for Non-Fungible tokens; it has a set of\\nrules which make it easy to work with NFTs. NFTs are not only of ERC-721 type;\\nthey can also be ERC-1155 tokens  Ethereum request for comment  ERC stands for\\n\"Ethereum request for comment,\" and the ERC20 standard was implemented in 2015.\\nPlenty of well-known digital currencies use the ERC-20 standard, including Maker\\n(MKR), Basic Attention Token (BAT), Augur (REP), and OMG Network (OMG).\\n8.Hash:  A hash is a function that meets the encrypted demands needed to solve\\nfor a blockchain computation. Hashes are of a fixed length since it makes it\\nnearly impossible to guess the length of the hash if someone was trying to crack\\nthe blockchain. The same data will always produce the same hashed value. In\\nparticular, the Bitcoin hash algorithm is SHA-256 or Secure Hashing Algorithm\\n256 bits.  9.IPFS  The InterPlanetary File System is a protocol and peer-to-peer\\nnetwork for storing and sharing data in a distributed file system. IPFS uses\\ncontent-addressing to uniquely identify each file in a global namespace\\nconnecting all computing devices.    10.SHA 256  Secure Hashing Algorithm (SHA)\\n-256 is the\\xa0hash function and mining algorithm of the Bitcoin protocol,\\nreferring to the cryptographic hash function that outputs a 256 bits long value.\\nIt moderates the creation and management of addresses, and is also used for\\ntransaction verification.  11.Does ETH use SHA-256?  Ethereum uses Keccak-256 in\\na consensus engine called Ethash. Keccak is a family of hash functions that\\neventually got standardized to SHA-3 (SHA256 is part of a family of hash\\nfunctions called SHA-2). Ethereum called it Keccak instead of SHA-3 as it has\\nslightly different parameters than the current SHA-3.  12. What is Merkel Tree?\\nMerkel Tree\\xa0is a data structure that is used for verifying a block. It is in the\\nform of a binary tree containing cryptographic hashes of each block. A Merkle\\ntree is structured similarly to a binary tree where each leaf node is a hash of\\na block of transactional data and each non-leaf node is a hash of its leaf node.\\nThe Merkel root or hash root is the final hash root of all the transaction\\nhashes. It encompasses all the transactions that are underlying all the non-leaf\\nnodes.  13.public Blockchain\\xa0ledgers   are visible to all the users on the\\ninternet and any user can verify and add a block of transactions to the\\nBlockchain. Examples,\\xa0Bitcoin, and\\xa0Ethereum.      14.Private Blockchain\\xa0ledgers\\nare visible to users on the internet but only specific users in the organization\\ncan verify and add transactions. It’s a permissioned blockchain, although the\\ninformation is available publicly, the controllers of the information are within\\nthe organization and are predetermined. Example,\\xa0Blockstack.  15.how is the\\ntransaction fee calculated?  Gas usage depends upon the amount of storage and\\nset of instructions (codes) used in a smart contract. The transaction fee is\\ncalculated in Ether, which is given as:  Ether = Tx Fees = Gas Limit * Gas Price'"
      ]
     },
     "execution_count": 15,
     "metadata": {},
     "output_type": "execute_result"
    }
   ],
   "source": [
    "result = getDOCTxt(\"1.docx\",\"output.txt\")\n",
    "result"
   ]
  }
 ],
 "metadata": {
  "kernelspec": {
   "display_name": "Python 3",
   "language": "python",
   "name": "python3"
  },
  "language_info": {
   "codemirror_mode": {
    "name": "ipython",
    "version": 3
   },
   "file_extension": ".py",
   "mimetype": "text/x-python",
   "name": "python",
   "nbconvert_exporter": "python",
   "pygments_lexer": "ipython3",
   "version": "3.11.7"
  }
 },
 "nbformat": 4,
 "nbformat_minor": 2
}
