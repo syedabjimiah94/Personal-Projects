{
 "cells": [
  {
   "cell_type": "code",
   "execution_count": 1,
   "metadata": {},
   "outputs": [
    {
     "name": "stdout",
     "output_type": "stream",
     "text": [
      "Defaulting to user installation because normal site-packages is not writeable\n",
      "Requirement already satisfied: pytesseract in c:\\users\\user\\appdata\\roaming\\python\\python311\\site-packages (0.3.13)\n",
      "Requirement already satisfied: packaging>=21.3 in c:\\users\\user\\appdata\\roaming\\python\\python311\\site-packages (from pytesseract) (24.1)\n",
      "Requirement already satisfied: Pillow>=8.0.0 in c:\\users\\user\\appdata\\roaming\\python\\python311\\site-packages (from pytesseract) (10.4.0)\n"
     ]
    },
    {
     "name": "stderr",
     "output_type": "stream",
     "text": [
      "\n",
      "[notice] A new release of pip is available: 23.2.1 -> 24.2\n",
      "[notice] To update, run: python.exe -m pip install --upgrade pip\n"
     ]
    },
    {
     "name": "stdout",
     "output_type": "stream",
     "text": [
      "Defaulting to user installation because normal site-packages is not writeable\n",
      "Requirement already satisfied: pillow in c:\\users\\user\\appdata\\roaming\\python\\python311\\site-packages (10.4.0)\n"
     ]
    },
    {
     "name": "stderr",
     "output_type": "stream",
     "text": [
      "\n",
      "[notice] A new release of pip is available: 23.2.1 -> 24.2\n",
      "[notice] To update, run: python.exe -m pip install --upgrade pip\n"
     ]
    }
   ],
   "source": [
    "!pip install pytesseract\n",
    "!pip install pillow"
   ]
  },
  {
   "cell_type": "code",
   "execution_count": 2,
   "metadata": {},
   "outputs": [],
   "source": [
    "import pytesseract\n",
    "from pytesseract import image_to_string\n",
    "from PIL import Image\n",
    "pytesseract.pytesseract.tesseract_cmd = r'C:/Program Files/Tesseract-OCR/tesseract.exe'"
   ]
  },
  {
   "cell_type": "code",
   "execution_count": 3,
   "metadata": {},
   "outputs": [],
   "source": [
    "def getIMGTxt(image, lang: str = 'eng+other_language') -> str: \n",
    "    pil_image = Image.open(image)\n",
    "    pil_image = pil_image.convert('L')\n",
    "    custom_config = r'--oem 3 --psm 6'\n",
    "\n",
    "    if lang:\n",
    "        custom_config += f' -l {lang}'\n",
    "    \n",
    "    text = pytesseract.image_to_string(pil_image, config=custom_config)\n",
    "    \n",
    "    return text"
   ]
  },
  {
   "cell_type": "code",
   "execution_count": 4,
   "metadata": {},
   "outputs": [
    {
     "name": "stdout",
     "output_type": "stream",
     "text": [
      "Opec ;\n",
      "2\n",
      "ns AVODHA |\n",
      "Education for a Job\n",
      "Certificate of Completion\n",
      "This is to certify that\n",
      "Mr./Ms. Syed Abjimiah having Registration Number 1182743886\n",
      "has successfully completed skill training in Python & Django\n",
      "Certificate is issued on 09/12/2021.\n",
      "AVODHA EDUTECH PRIVATE LIMITED\n",
      "~ OD DN\n",
      "Abel Si Lenore Shiny E G\n",
      "Chief = SS wh =e Se\n",
      "WW\n",
      "\n"
     ]
    }
   ],
   "source": [
    "a=getIMGTxt(\"Avodha-python_django.jpeg\")\n",
    "print(a)"
   ]
  },
  {
   "cell_type": "code",
   "execution_count": 5,
   "metadata": {},
   "outputs": [],
   "source": [
    "def getIMGTxt(image, lang: str = 'eng+tam') -> str:  # Default to Tamil, you can change to 'eng+hin' for Hindi\n",
    "    pil_image = Image.open(image)\n",
    "    pil_image = pil_image.convert('L')  # Convert to grayscale\n",
    "    custom_config = r'--oem 3 --psm 6'\n",
    "    \n",
    "    if lang:\n",
    "        custom_config += f' -l {lang}'  # Specify the language(s)\n",
    "    \n",
    "    text = pytesseract.image_to_string(pil_image, config=custom_config)\n",
    "    \n",
    "    return text\n"
   ]
  },
  {
   "cell_type": "code",
   "execution_count": 8,
   "metadata": {},
   "outputs": [
    {
     "name": "stdout",
     "output_type": "stream",
     "text": [
      "மனிதப்‌ பிறவியினர்‌ சகலரும்‌ சுதந்திரமாகவே\n",
      "பிறக்கின்றனர்‌; அவர்கள்‌ மதிப்பிலும்‌ உரிமைகளிலும்‌\n",
      "சமமானவர்கள்‌. அவர்கள்‌ நியாயத்தையும்‌\n",
      "மனசாட்சியையும்‌ இயற்பண்பாகப்‌ பெற்றவர்கள்‌.\n",
      "அவர்கள்‌ ஒருவருடனொருவர்‌ சகோதர உணர்வுப்‌\n",
      "பாங்கில்‌ நடந்துகொள்ளல்‌ வேண்டும்‌.\n",
      "\n"
     ]
    }
   ],
   "source": [
    "a=getIMGTxt(\"tamil.jfif\")\n",
    "print(a)"
   ]
  },
  {
   "cell_type": "code",
   "execution_count": 9,
   "metadata": {},
   "outputs": [],
   "source": [
    "def getIMGTxt(image, lang: str = 'hin') -> str:  # Default to Tamil, you can change to 'eng+hin' for Hindi\n",
    "    pil_image = Image.open(image)\n",
    "    pil_image = pil_image.convert('L')  # Convert to grayscale\n",
    "    custom_config = r'--oem 3 --psm 6'\n",
    "    \n",
    "    if lang:\n",
    "        custom_config += f' -l {lang}'  # Specify the language(s)\n",
    "    \n",
    "    text = pytesseract.image_to_string(pil_image, config=custom_config)\n",
    "    \n",
    "    return text"
   ]
  },
  {
   "cell_type": "code",
   "execution_count": 10,
   "metadata": {},
   "outputs": [
    {
     "name": "stdout",
     "output_type": "stream",
     "text": [
      "सभी मनुष्यों को गौरव और अधिकारों के मामले में जन्म\n",
      "स्वतन्त्रता और समानता प्राप्त है। उन्हें बुद्धि और अन्तरा\n",
      "की देन प्राप्त है और परस्पर उन्हें भाईचारे के भाव से बढ\n",
      "करना चाहिए।\n",
      "\n"
     ]
    }
   ],
   "source": [
    "a=getIMGTxt(\"hindi.jfif\")\n",
    "print(a)"
   ]
  }
 ],
 "metadata": {
  "kernelspec": {
   "display_name": "Python 3",
   "language": "python",
   "name": "python3"
  },
  "language_info": {
   "codemirror_mode": {
    "name": "ipython",
    "version": 3
   },
   "file_extension": ".py",
   "mimetype": "text/x-python",
   "name": "python",
   "nbconvert_exporter": "python",
   "pygments_lexer": "ipython3",
   "version": "3.11.7"
  }
 },
 "nbformat": 4,
 "nbformat_minor": 2
}
