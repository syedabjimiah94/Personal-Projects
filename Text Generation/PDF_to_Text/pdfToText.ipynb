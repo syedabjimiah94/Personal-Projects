{
 "cells": [
  {
   "cell_type": "code",
   "execution_count": 1,
   "metadata": {},
   "outputs": [
    {
     "name": "stdout",
     "output_type": "stream",
     "text": [
      "Defaulting to user installation because normal site-packages is not writeable\n",
      "Requirement already satisfied: PyMuPDF in c:\\users\\user\\appdata\\roaming\\python\\python311\\site-packages (1.24.9)\n",
      "Requirement already satisfied: PyMuPDFb==1.24.9 in c:\\users\\user\\appdata\\roaming\\python\\python311\\site-packages (from PyMuPDF) (1.24.9)\n"
     ]
    },
    {
     "name": "stderr",
     "output_type": "stream",
     "text": [
      "\n",
      "[notice] A new release of pip is available: 23.2.1 -> 24.2\n",
      "[notice] To update, run: python.exe -m pip install --upgrade pip\n"
     ]
    },
    {
     "name": "stdout",
     "output_type": "stream",
     "text": [
      "Defaulting to user installation because normal site-packages is not writeable\n",
      "Collecting pypdfium2\n",
      "  Obtaining dependency information for pypdfium2 from https://files.pythonhosted.org/packages/25/bd/56d9ec6b9f0fc4e0d95288759f3179f0fcd34b1a1526b75673d2f6d5196f/pypdfium2-4.30.0-py3-none-win_amd64.whl.metadata\n",
      "  Downloading pypdfium2-4.30.0-py3-none-win_amd64.whl.metadata (48 kB)\n",
      "     ---------------------------------------- 0.0/48.5 kB ? eta -:--:--\n",
      "     -------- ------------------------------- 10.2/48.5 kB ? eta -:--:--\n",
      "     ------------------------ ------------- 30.7/48.5 kB 217.9 kB/s eta 0:00:01\n",
      "     -------------------------------------- 48.5/48.5 kB 306.2 kB/s eta 0:00:00\n",
      "Downloading pypdfium2-4.30.0-py3-none-win_amd64.whl (2.9 MB)\n",
      "   ---------------------------------------- 0.0/2.9 MB ? eta -:--:--\n",
      "   - -------------------------------------- 0.1/2.9 MB 1.5 MB/s eta 0:00:02\n",
      "   --- ------------------------------------ 0.3/2.9 MB 2.9 MB/s eta 0:00:01\n",
      "   ------ --------------------------------- 0.5/2.9 MB 3.4 MB/s eta 0:00:01\n",
      "   ------------ --------------------------- 0.9/2.9 MB 4.8 MB/s eta 0:00:01\n",
      "   ---------------- ----------------------- 1.2/2.9 MB 5.4 MB/s eta 0:00:01\n",
      "   ----------------------- ---------------- 1.7/2.9 MB 6.0 MB/s eta 0:00:01\n",
      "   ---------------------------- ----------- 2.1/2.9 MB 6.6 MB/s eta 0:00:01\n",
      "   -------------------------------- ------- 2.4/2.9 MB 6.8 MB/s eta 0:00:01\n",
      "   ----------------------------------- ---- 2.6/2.9 MB 6.4 MB/s eta 0:00:01\n",
      "   ---------------------------------------  2.9/2.9 MB 6.4 MB/s eta 0:00:01\n",
      "   ---------------------------------------- 2.9/2.9 MB 6.2 MB/s eta 0:00:00\n",
      "Installing collected packages: pypdfium2\n",
      "Successfully installed pypdfium2-4.30.0\n"
     ]
    },
    {
     "name": "stderr",
     "output_type": "stream",
     "text": [
      "\n",
      "[notice] A new release of pip is available: 23.2.1 -> 24.2\n",
      "[notice] To update, run: python.exe -m pip install --upgrade pip\n"
     ]
    },
    {
     "name": "stdout",
     "output_type": "stream",
     "text": [
      "Defaulting to user installation because normal site-packages is not writeable\n",
      "Requirement already satisfied: pillow in c:\\users\\user\\appdata\\roaming\\python\\python311\\site-packages (10.4.0)\n"
     ]
    },
    {
     "name": "stderr",
     "output_type": "stream",
     "text": [
      "\n",
      "[notice] A new release of pip is available: 23.2.1 -> 24.2\n",
      "[notice] To update, run: python.exe -m pip install --upgrade pip\n"
     ]
    }
   ],
   "source": [
    "!pip install PyMuPDF\n",
    "!pip install pypdfium2\n",
    "!pip install pillow"
   ]
  },
  {
   "cell_type": "code",
   "execution_count": 11,
   "metadata": {},
   "outputs": [],
   "source": [
    "\n",
    "import traceback\n",
    "from PIL import Image\n",
    "from io import BytesIO\n",
    "import pypdfium2 as pdfium\n",
    "from typing import Optional,List, Dict\n",
    "import fitz  # PyMuPDF\n",
    "from pytesseract import image_to_string\n",
    "import pytesseract\n",
    "pytesseract.pytesseract.tesseract_cmd = r'C:/Program Files/Tesseract-OCR/tesseract.exe'"
   ]
  },
  {
   "cell_type": "code",
   "execution_count": 5,
   "metadata": {},
   "outputs": [],
   "source": [
    "def convert_pdf_to_images(file_path: str, scale=300/72) -> List[Dict[int, bytes]]:\n",
    "    pdf_file = pdfium.PdfDocument(file_path)\n",
    "    page_indices = [i for i in range(len(pdf_file))]\n",
    "\n",
    "    renderer = pdf_file.render(\n",
    "    pdfium.PdfBitmap.to_pil,\n",
    "    page_indices = page_indices,\n",
    "    scale = scale,\n",
    "    )\n",
    "\n",
    "    list_final_images = []\n",
    "\n",
    "    for i, image in zip(page_indices, renderer):\n",
    "\n",
    "        image_byte_array = BytesIO()\n",
    "        image.save(image_byte_array, format='jpeg', optimize=True)\n",
    "        image_byte_array = image_byte_array.getvalue()\n",
    "        list_final_images.append(dict({i:image_byte_array}))\n",
    "\n",
    "    return list_final_images\n",
    "\n",
    "def getPDFTxt(list_dict_final_images: List[Dict[int, bytes]]) -> str:\n",
    "\n",
    "  image_list = [list(data.values())[0] for data in list_dict_final_images]\n",
    "  image_content = []\n",
    "\n",
    "  for index, image_bytes in enumerate(image_list):\n",
    "    try:\n",
    "      image = Image.open(BytesIO(image_bytes))  \n",
    "      raw_text = str(image_to_string(image))\n",
    "      \n",
    "    except Exception:\n",
    "      raw_text = \"OCR failed\"\n",
    "      print(f\"OCR failed for image {index}\")\n",
    "      traceback.print_exc()\n",
    "\n",
    "    image_content.append(raw_text)\n",
    "\n",
    "  return \"\\n\".join(image_content)"
   ]
  },
  {
   "cell_type": "code",
   "execution_count": 15,
   "metadata": {},
   "outputs": [],
   "source": [
    "def getPDFTxt_2(file_path):\n",
    "    # Open the PDF file\n",
    "    document = fitz.open(file_path)\n",
    "    text = \"\"\n",
    "\n",
    "    # Extract text from each page\n",
    "    for page_num in range(document.page_count):\n",
    "        page = document.load_page(page_num)\n",
    "        text += page.get_text()\n",
    "\n",
    "    # Check if extracted text is empty\n",
    "    if text.strip() == \"\":\n",
    "        # Call convert_pdf_to_images function\n",
    "        images = convert_pdf_to_images(file_path)\n",
    "        # Call getPDFTxt function with images\n",
    "        text = getPDFTxt(images)\n",
    "\n",
    "    return text"
   ]
  },
  {
   "cell_type": "code",
   "execution_count": 16,
   "metadata": {},
   "outputs": [
    {
     "data": {
      "text/plain": [
       "'7/18/22, 2:12 PM\\nEnd Semester Result\\nabout:blank\\n1/1\\nFRANCIS XAVIER ENGINEERING COLLEGE, TIRUNELVELI - 627 003\\n(AUTONOMOUS)\\nOFFICE OF THE CONTROLLER OF EXAMINATIONS\\nResult - April/May 2022\\nStudent Name: SYED ABJIMIAH I\\nSemester: 04\\nRegister Number: 95072056012\\nGPA: 9.000\\nClass: M.E.- 2020-2022- A\\nSEMESTER\\nCOURSE CODE\\nCREDIT\\nGRADE\\nGRADE POINT\\nRESULT\\n04\\n19IS4911\\n12\\nA+\\n9\\nP\\nP - Pass , F - Fail , C - Completed , NC - Not Completed.\\nFA\\nHOD\\nPrincipal\\n'"
      ]
     },
     "execution_count": 16,
     "metadata": {},
     "output_type": "execute_result"
    }
   ],
   "source": [
    "result = getPDFTxt_2(\"sem_annotated.pdf\")\n",
    "result"
   ]
  },
  {
   "cell_type": "code",
   "execution_count": 17,
   "metadata": {},
   "outputs": [
    {
     "name": "stdout",
     "output_type": "stream",
     "text": [
      "Text successfully saved to output.txt\n"
     ]
    }
   ],
   "source": [
    "# Now save the result to a .txt file\n",
    "output_file = \"output.txt\"\n",
    "\n",
    "try:\n",
    "    with open(output_file, 'w', encoding='utf-8') as f:\n",
    "        f.write(result)\n",
    "    print(f\"Text successfully saved to {output_file}\")\n",
    "except Exception as e:\n",
    "    print(f\"Error saving text to file: {e}\")"
   ]
  },
  {
   "cell_type": "code",
   "execution_count": 12,
   "metadata": {},
   "outputs": [
    {
     "data": {
      "text/plain": [
       "'SYED ABJIMIAH |\\n\\nSenior Associate - Software Developer\\n(AIML / NLP)\\n\\nPassionate about language and technology, | specialize\\nin Natural Language Processing (NLP) and Artificial\\nIntelligence Markup Language (AIML). My expertise\\nspans developing sophisticated chatbots, optimizing\\naudio recording web apps, and seamlessly translating\\ncontent into multiple languages. With a keen focus on\\nenhancing user experience and delivering precise\\ntranslations.\\n\\nWORK EXPERIENCE\\n\\nSenior Associate Enterprise sys\\n\\nSutherland Global PVT LTD\\n\\n06/2022 - Present Chennai\\n\\nAchievements/Tasks\\n\\n© Automatic Question Generation: Leveraged transformer models to generate\\nquestions from various sources (PDFs, words, audio, video), achieving a 25%\\nincrease in accuracy and a 30% boost in processing speed.\\n\\n® Optimized a sentiment analysis model , increasing its F1 score from 0.82 to 0.91,\\n\\nCreated a question-answering chatbot that handled 10,000+ user queries per\\nday with a 95% accuracy rate!\\n\\nSpeech-to-Text and Text-to-Speech: Integrated advanced speech recognition\\nand synthesis technologies to Facilitate seamless audio and text conversions!\\n\\nJWT Authentication: Ensured secure authentication and authorization through\\nthe implementation of JSON Web Token (JWT) authentication mechanisms.\\n\\nBase64 Image to Text Conversion: Created a streamlined process for converting\\nbase64-encoded images to text, improving data extraction efficiency.\\n\\nSensitive Data Handling: Implemented masking techniques for sensitive data and\\ncensor words, along with fuzzy date search capabilities For enhanced data privacy.\\n\\nSOFTWARE DEVELOPER - INTERNSHIP\\n\\nKaashiv Infotech PVT LTD\\n\\n09/2021 - 03/2022 Chennai\\nAchievements/Tasks\\n\\n® Hyperparameter Grid Search: Conducted extensive hyperparameter grid\\nsearches, resulting in a 20% performance improvement for various models and\\ntasks.\\n\\n® K-means Clustering: Applied K-means clustering to segment datasets, improving\\ninsights and data-driven decision-making processes. DBSCAN Clustering: Utilized\\nDBSCAN clustering to identify and analyze data patterns, particularly in noisy\\ndatasets!\\n\\nSYSTEM ENGINEER\\nDkam Interio PVT LTD(2019 - 21) & Accel Frontline(2017 - 18)\\n\\nChennai & Bangalore\\n\\nPERSONAL PROJECTS\\n\\nPrompt Engineering (04/2024 - 05/2024)\\nPDF Annotator and Redact (02/2024 - 03/2024)\\nResume Screening (05/2023 - 07/2023)\\n\\nsyedabjimiah94@gmail.com\\n\\n9980315957\\n\\nChennai, India\\n\\nlinkedin.com/in/syed -\\nabjimiah-480059228\\n\\ngithub.com/syedabjimiah94\\n\\nSKILLS\\n\\nEDUCATION\\n\\nFrancis Xavier College\\nMASTER OF ENGINEERING\\n2020 - 2022\\n\\nCourses\\n© ISE\\n\\nLoyola College\\nBACHELOR OF ENGINEERING\\n2012-2016\\n\\nCourses\\n® ECE\\n\\nHONOR AWARDS\\n\\n100% Focus On Result\\n(06/2024 - Present)\\nSutherland Global PVT LTD\\n\\nLANGUAGES\\n\\nEnglish, Tamil, Hindi, Urdu\\n\\nOR OMOROME\\n'"
      ]
     },
     "execution_count": 12,
     "metadata": {},
     "output_type": "execute_result"
    }
   ],
   "source": [
    "scanned_result = getPDFTxt_2(\"scanned_pdf.pdf\")\n",
    "scanned_result"
   ]
  },
  {
   "cell_type": "code",
   "execution_count": 14,
   "metadata": {},
   "outputs": [
    {
     "name": "stdout",
     "output_type": "stream",
     "text": [
      "Text successfully saved to scanned_pdf_output.txt\n"
     ]
    }
   ],
   "source": [
    "# Now save the result to a .txt file\n",
    "output_file = \"scanned_pdf_output.txt\"\n",
    "\n",
    "try:\n",
    "    with open(output_file, 'w', encoding='utf-8') as f:\n",
    "        f.write(scanned_result)\n",
    "    print(f\"Text successfully saved to {output_file}\")\n",
    "except Exception as e:\n",
    "    print(f\"Error saving text to file: {e}\")"
   ]
  },
  {
   "cell_type": "code",
   "execution_count": null,
   "metadata": {},
   "outputs": [],
   "source": []
  }
 ],
 "metadata": {
  "kernelspec": {
   "display_name": "Python 3",
   "language": "python",
   "name": "python3"
  },
  "language_info": {
   "codemirror_mode": {
    "name": "ipython",
    "version": 3
   },
   "file_extension": ".py",
   "mimetype": "text/x-python",
   "name": "python",
   "nbconvert_exporter": "python",
   "pygments_lexer": "ipython3",
   "version": "3.11.7"
  }
 },
 "nbformat": 4,
 "nbformat_minor": 2
}
