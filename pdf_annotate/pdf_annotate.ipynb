{
 "cells": [
  {
   "cell_type": "code",
   "execution_count": 1,
   "metadata": {},
   "outputs": [
    {
     "name": "stdout",
     "output_type": "stream",
     "text": [
      "Defaulting to user installation because normal site-packages is not writeable\n",
      "Collecting PyMuPDF\n",
      "  Obtaining dependency information for PyMuPDF from https://files.pythonhosted.org/packages/a9/0e/63f2a10fa0bcd18fd88352cf04beb994f08f2e61a7eac83f2ad78666f6cf/PyMuPDF-1.24.9-cp311-none-win_amd64.whl.metadata\n",
      "  Downloading PyMuPDF-1.24.9-cp311-none-win_amd64.whl.metadata (3.4 kB)\n",
      "Collecting PyMuPDFb==1.24.9 (from PyMuPDF)\n",
      "  Obtaining dependency information for PyMuPDFb==1.24.9 from https://files.pythonhosted.org/packages/1b/90/b7114f4387de90aea8ef3cb3e0bdceccfcc4d3d64d9e0d0e1c042f92bd9e/PyMuPDFb-1.24.9-py3-none-win_amd64.whl.metadata\n",
      "  Downloading PyMuPDFb-1.24.9-py3-none-win_amd64.whl.metadata (1.4 kB)\n",
      "Downloading PyMuPDF-1.24.9-cp311-none-win_amd64.whl (3.2 MB)\n",
      "   ---------------------------------------- 0.0/3.2 MB ? eta -:--:--\n",
      "   ---------------------------------------- 0.0/3.2 MB ? eta -:--:--\n",
      "   ---------------------------------------- 0.0/3.2 MB 660.6 kB/s eta 0:00:05\n",
      "    --------------------------------------- 0.1/3.2 MB 656.4 kB/s eta 0:00:05\n",
      "   --- ------------------------------------ 0.3/3.2 MB 2.1 MB/s eta 0:00:02\n",
      "   ----- ---------------------------------- 0.5/3.2 MB 2.7 MB/s eta 0:00:02\n",
      "   ----------- ---------------------------- 0.9/3.2 MB 4.0 MB/s eta 0:00:01\n",
      "   --------------- ------------------------ 1.2/3.2 MB 4.6 MB/s eta 0:00:01\n",
      "   ------------------ --------------------- 1.5/3.2 MB 4.9 MB/s eta 0:00:01\n",
      "   ---------------------- ----------------- 1.8/3.2 MB 5.0 MB/s eta 0:00:01\n",
      "   ------------------------- -------------- 2.1/3.2 MB 5.3 MB/s eta 0:00:01\n",
      "   ----------------------------- ---------- 2.4/3.2 MB 5.4 MB/s eta 0:00:01\n",
      "   --------------------------------- ------ 2.7/3.2 MB 5.6 MB/s eta 0:00:01\n",
      "   -------------------------------------- - 3.1/3.2 MB 6.0 MB/s eta 0:00:01\n",
      "   ---------------------------------------- 3.2/3.2 MB 5.9 MB/s eta 0:00:00\n",
      "Downloading PyMuPDFb-1.24.9-py3-none-win_amd64.whl (13.2 MB)\n",
      "   ---------------------------------------- 0.0/13.2 MB ? eta -:--:--\n",
      "   - -------------------------------------- 0.3/13.2 MB 7.0 MB/s eta 0:00:02\n",
      "   -- ------------------------------------- 0.7/13.2 MB 7.5 MB/s eta 0:00:02\n",
      "   --- ------------------------------------ 1.2/13.2 MB 8.4 MB/s eta 0:00:02\n",
      "   ---- ----------------------------------- 1.6/13.2 MB 8.3 MB/s eta 0:00:02\n",
      "   ----- ---------------------------------- 2.0/13.2 MB 9.0 MB/s eta 0:00:02\n",
      "   ------- -------------------------------- 2.3/13.2 MB 8.8 MB/s eta 0:00:02\n",
      "   -------- ------------------------------- 2.6/13.2 MB 8.4 MB/s eta 0:00:02\n",
      "   --------- ------------------------------ 3.1/13.2 MB 8.6 MB/s eta 0:00:02\n",
      "   ---------- ----------------------------- 3.5/13.2 MB 8.7 MB/s eta 0:00:02\n",
      "   ----------- ---------------------------- 3.8/13.2 MB 8.7 MB/s eta 0:00:02\n",
      "   ------------ --------------------------- 4.1/13.2 MB 8.4 MB/s eta 0:00:02\n",
      "   ------------- -------------------------- 4.4/13.2 MB 8.3 MB/s eta 0:00:02\n",
      "   -------------- ------------------------- 4.8/13.2 MB 8.0 MB/s eta 0:00:02\n",
      "   --------------- ------------------------ 5.1/13.2 MB 8.2 MB/s eta 0:00:01\n",
      "   ---------------- ----------------------- 5.4/13.2 MB 8.0 MB/s eta 0:00:01\n",
      "   ----------------- ---------------------- 5.8/13.2 MB 8.0 MB/s eta 0:00:01\n",
      "   ------------------ --------------------- 6.2/13.2 MB 8.0 MB/s eta 0:00:01\n",
      "   -------------------- ------------------- 6.7/13.2 MB 8.3 MB/s eta 0:00:01\n",
      "   --------------------- ------------------ 7.2/13.2 MB 8.4 MB/s eta 0:00:01\n",
      "   ----------------------- ---------------- 7.6/13.2 MB 8.4 MB/s eta 0:00:01\n",
      "   ------------------------ --------------- 8.1/13.2 MB 8.5 MB/s eta 0:00:01\n",
      "   ------------------------- -------------- 8.5/13.2 MB 8.6 MB/s eta 0:00:01\n",
      "   -------------------------- ------------- 8.9/13.2 MB 8.6 MB/s eta 0:00:01\n",
      "   --------------------------- ------------ 9.2/13.2 MB 8.5 MB/s eta 0:00:01\n",
      "   ----------------------------- ---------- 9.6/13.2 MB 8.5 MB/s eta 0:00:01\n",
      "   ------------------------------ --------- 10.0/13.2 MB 8.5 MB/s eta 0:00:01\n",
      "   ------------------------------- -------- 10.3/13.2 MB 8.5 MB/s eta 0:00:01\n",
      "   -------------------------------- ------- 10.7/13.2 MB 8.6 MB/s eta 0:00:01\n",
      "   --------------------------------- ------ 11.1/13.2 MB 8.6 MB/s eta 0:00:01\n",
      "   ---------------------------------- ----- 11.4/13.2 MB 8.5 MB/s eta 0:00:01\n",
      "   ----------------------------------- ---- 11.8/13.2 MB 8.5 MB/s eta 0:00:01\n",
      "   ------------------------------------ --- 12.2/13.2 MB 8.4 MB/s eta 0:00:01\n",
      "   -------------------------------------- - 12.6/13.2 MB 8.5 MB/s eta 0:00:01\n",
      "   ---------------------------------------  13.0/13.2 MB 8.5 MB/s eta 0:00:01\n",
      "   ---------------------------------------  13.2/13.2 MB 8.4 MB/s eta 0:00:01\n",
      "   ---------------------------------------  13.2/13.2 MB 8.4 MB/s eta 0:00:01\n",
      "   ---------------------------------------- 13.2/13.2 MB 8.0 MB/s eta 0:00:00\n",
      "Installing collected packages: PyMuPDFb, PyMuPDF\n",
      "Successfully installed PyMuPDF-1.24.9 PyMuPDFb-1.24.9\n"
     ]
    },
    {
     "name": "stderr",
     "output_type": "stream",
     "text": [
      "\n",
      "[notice] A new release of pip is available: 23.2.1 -> 24.2\n",
      "[notice] To update, run: python.exe -m pip install --upgrade pip\n"
     ]
    }
   ],
   "source": [
    "!pip install PyMuPDF"
   ]
  },
  {
   "cell_type": "code",
   "execution_count": 9,
   "metadata": {},
   "outputs": [],
   "source": [
    "import fitz  # PyMuPDF\n",
    "\n",
    "def process_pdf_anno(pdf_path, keywords):\n",
    "    doc = fitz.open(pdf_path)\n",
    "    for page_num in range(doc.page_count):\n",
    "        page = doc[page_num]\n",
    "        text_instances = []\n",
    "        for keyword in keywords:\n",
    "            text_instances.extend(page.search_for(keyword.strip()))\n",
    "\n",
    "        for inst in text_instances:\n",
    "            highlight = page.add_highlight_annot(inst)\n",
    "            highlight.set_colors(stroke=(1,1,0))\n",
    "            highlight.update()\n",
    "    output_path = pdf_path.replace(\".pdf\", \"_annotated.pdf\")\n",
    "    doc.save(output_path)\n",
    "    doc.close()\n",
    "\n",
    "    print(f\"Annotated PDF saved as: {output_path}\")\n",
    "\n",
    "if __name__ == \"__main__\":\n",
    "    pdf_path = \"sem.pdf\"\n",
    "    keywords = [\"syed Abjimiah\"]\n",
    "    process_pdf_anno(pdf_path, keywords)\n"
   ]
  }
 ],
 "metadata": {
  "kernelspec": {
   "display_name": "Python 3",
   "language": "python",
   "name": "python3"
  },
  "language_info": {
   "codemirror_mode": {
    "name": "ipython",
    "version": 3
   },
   "file_extension": ".py",
   "mimetype": "text/x-python",
   "name": "python",
   "nbconvert_exporter": "python",
   "pygments_lexer": "ipython3",
   "version": "3.11.7"
  }
 },
 "nbformat": 4,
 "nbformat_minor": 2
}
