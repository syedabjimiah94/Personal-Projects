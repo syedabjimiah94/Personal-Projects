{
 "cells": [
  {
   "cell_type": "code",
   "execution_count": 2,
   "metadata": {},
   "outputs": [
    {
     "name": "stdout",
     "output_type": "stream",
     "text": [
      "Redacted PDF saved as: sem_redacted.pdf\n"
     ]
    }
   ],
   "source": [
    "import fitz  # PyMuPDF\n",
    "\n",
    "def process_pdf_redact(pdf_path, keywords):\n",
    "    \"\"\"\n",
    "    Redacts specified keywords in a PDF and saves the result.\n",
    "\n",
    "    :param pdf_path: The path to the PDF file.\n",
    "    :param keywords: A list of keywords to search for and redact.\n",
    "    \"\"\"\n",
    "    doc = fitz.open(pdf_path)\n",
    "    \n",
    "    for page_num in range(doc.page_count):\n",
    "        page = doc[page_num]\n",
    "        text_instances = []\n",
    "        \n",
    "        # Search for keywords and collect their locations\n",
    "        for keyword in keywords:\n",
    "            text_instances.extend(page.search_for(keyword.strip()))\n",
    "        \n",
    "        # Redact each found keyword\n",
    "        for inst in text_instances:\n",
    "            page.add_redact_annot(inst, fill=(1, 0, 0))  # Redact with black box\n",
    "            page.apply_redactions()\n",
    "\n",
    "    # Save the redacted PDF with a new name\n",
    "    output_path = pdf_path.replace(\".pdf\", \"_redacted.pdf\")\n",
    "    doc.save(output_path)\n",
    "    doc.close()\n",
    "\n",
    "    print(f\"Redacted PDF saved as: {output_path}\")\n",
    "\n",
    "if __name__ == \"__main__\":\n",
    "    pdf_path = \"sem.pdf\"\n",
    "    keywords = [\"syed Abjimiah\"]\n",
    "    process_pdf_redact(pdf_path, keywords)\n"
   ]
  },
  {
   "cell_type": "code",
   "execution_count": null,
   "metadata": {},
   "outputs": [],
   "source": []
  }
 ],
 "metadata": {
  "kernelspec": {
   "display_name": "Python 3",
   "language": "python",
   "name": "python3"
  },
  "language_info": {
   "codemirror_mode": {
    "name": "ipython",
    "version": 3
   },
   "file_extension": ".py",
   "mimetype": "text/x-python",
   "name": "python",
   "nbconvert_exporter": "python",
   "pygments_lexer": "ipython3",
   "version": "3.11.7"
  }
 },
 "nbformat": 4,
 "nbformat_minor": 2
}
